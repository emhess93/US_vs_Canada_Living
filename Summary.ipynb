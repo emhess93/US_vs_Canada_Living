{
 "cells": [
  {
   "cell_type": "markdown",
   "metadata": {},
   "source": [
    "Import required libraries"
   ]
  },
  {
   "cell_type": "code",
   "execution_count": null,
   "metadata": {},
   "outputs": [],
   "source": [
    "import pandas as pd\n",
    "import googlemaps\n",
    "import pandas as pd\n",
    "from datetime import datetime\n",
    "import seaborn as sns\n",
    "import matplotlib.pyplot as plt\n"
   ]
  },
  {
   "cell_type": "markdown",
   "metadata": {},
   "source": [
    "Merge the \"Cost of Living\" csv file with the \"Cost of Living Columns\" csv file. Filter the list to show only the top 10 cities of interest."
   ]
  },
  {
   "cell_type": "code",
   "execution_count": null,
   "metadata": {},
   "outputs": [],
   "source": [
    "# Load CSV files\n",
    "livingcosts_df = pd.read_csv(\"data/cost-of-living.csv\")\n",
    "headers_df = pd.read_csv(\"data/Cost_of_Living_Columns.csv\",sep='\\t')\n",
    "headers_df.columns = headers_df.columns.str.strip().str.lower()\n",
    "\n",
    "# Create diction9ary to map the headers to the main data file\n",
    "key_to_header = dict(zip(headers_df['column'], headers_df['description']))\n",
    "\n",
    "# Replace the headers in the main data file with descriptions from the mapping\n",
    "livingcosts_df.columns = [key_to_header.get(col, col) for col in livingcosts_df.columns]\n",
    "\n",
    "# Filter the dataframe to only show US & Canada data\n",
    "livingcosts_df = livingcosts_df[\n",
    "    (livingcosts_df[\"Name of the country\"] == \"United States\") |\n",
    "    (livingcosts_df[\"Name of the country\"] == \"Canada\")\n",
    "    ]\n",
    "\n",
    "# Filter the dataframe to only show cities we are interested in viewing\n",
    "livingcosts_df = livingcosts_df[\n",
    "    (livingcosts_df[\"Name of the city\"] == \"Ann Arbor\") |\n",
    "    (livingcosts_df[\"Name of the city\"] == \"Detroit\") |\n",
    "    (livingcosts_df[\"Name of the city\"] == \"Dayton\") |\n",
    "    (livingcosts_df[\"Name of the city\"] == \"Columbus\") |\n",
    "    (livingcosts_df[\"Name of the city\"] == \"Cincinnati\") |\n",
    "    (livingcosts_df[\"Name of the city\"] == \"Guelph\") |\n",
    "    (livingcosts_df[\"Name of the city\"] == \"London\") |\n",
    "    (livingcosts_df[\"Name of the city\"] == \"Cambridge\") |\n",
    "    (livingcosts_df[\"Name of the city\"] == \"Vaughan\") |\n",
    "    (livingcosts_df[\"Name of the city\"] == \"Kitchener\")\n",
    "    ]\n",
    "\n",
    "# Save the updated DataFrame to new CSV file\n",
    "livingcosts_df.to_csv('data/updated_living_costs.csv', index=False)"
   ]
  },
  {
   "cell_type": "markdown",
   "metadata": {},
   "source": [
    "Create new columns to summarize monthly living expenses (rent, internet, utilities) and the cost of a night out for 2 people (dinner and 4 drinks / person)"
   ]
  },
  {
   "cell_type": "code",
   "execution_count": null,
   "metadata": {},
   "outputs": [],
   "source": [
    "#calculate monthly costs of rent, utilites, and internet\n",
    "livingcosts_df['Monthly Expenses']=livingcosts_df[['Apartment (3 bedrooms) Outside of Centre (USD)','Basic (Electricity, Heating, Cooling, Water, Garbage) for 85m2 Apartment (USD)','Internet (60 Mbps or More, Unlimited Data, Cable/ADSL) (USD)']].sum(axis=1)\n",
    "\n",
    "#calculate cost of 2 people going out for dinner and drinks one night\n",
    "livingcosts_df['Night out cost']=livingcosts_df['Meal for 2 People, Mid-range Restaurant, Three-course (USD)']+livingcosts_df['Domestic Beer (0.5 liter bottle, at the market) (USD)']*8\n",
    "\n",
    "# Save the updated DataFrame to new CSV file\n",
    "livingcosts_df.to_csv('data/updated_living_costs.csv', index=False)"
   ]
  },
  {
   "cell_type": "markdown",
   "metadata": {},
   "source": [
    "Use Google Maps API Client to pull in distances of top 10 cities to the main visit destinations. MAKE SURE TO INSERT YOUR API KEY!"
   ]
  },
  {
   "cell_type": "code",
   "execution_count": null,
   "metadata": {},
   "outputs": [],
   "source": [
    "# Initialize Google Maps API client\n",
    "api_key = 'your key'\n",
    "gmaps = googlemaps.Client(key=api_key)\n",
    "\n",
    "\n",
    "# List of cities and reference points\n",
    "cities = [\n",
    "    \"Ann Arbor, MI\",\n",
    "    \"Detroit, MI\",\n",
    "    \"Columbus, OH\",\n",
    "    \"Cincinnati, OH\",\n",
    "    \"Dayton, OH\",\n",
    "    \"Guelph, ON\",\n",
    "    \"London, ON\",\n",
    "    \"Cambridge, ON\",\n",
    "    \"Kitchener, ON\",\n",
    "    \"Vaughan, ON\"\n",
    "]\n",
    "\n",
    "reference_points = [\"Guelph, ON\", \"St. Henry, OH\"]\n",
    "\n",
    "# Function to get driving distance\n",
    "def get_driving_distance(origin, destination):\n",
    "    try:\n",
    "        result = gmaps.distance_matrix(origins=origin, destinations=destination, mode=\"driving\", departure_time=datetime.now())\n",
    "        distance = result['rows'][0]['elements'][0]['distance']['text']\n",
    "        return distance\n",
    "    except Exception as e:\n",
    "        print(f\"Error getting distance from {origin} to {destination}: {e}\")\n",
    "        return \"Error\"\n",
    "# Prepare a DataFrame to store results\n",
    "results = []\n",
    "\n",
    "# Calculate distances\n",
    "for city in cities:\n",
    "    # Create a dictionary for the current city\n",
    "    city_distances = {'City': city}\n",
    "    for point in reference_points:\n",
    "        distance = get_driving_distance(city, point)\n",
    "        # Add the distance to the dictionary with the appropriate key\n",
    "        city_distances[f'Distance to {point.split(\",\")[0]}'] = distance\n",
    "    # Append the city distances dictionary to results\n",
    "    results.append(city_distances)\n",
    "\n",
    "# Create a DataFrame from the results\n",
    "distances_df = pd.DataFrame(results)\n",
    "\n",
    "# Function to convert distances to numeric values (in km), considering '1 m' as 0.001 km\n",
    "def convert_to_km(distance_str):\n",
    "    if 'km' in distance_str:\n",
    "        return float(distance_str.replace(' km', '').replace(',', ''))\n",
    "    elif 'm' in distance_str:\n",
    "        return 0.001  # Converting 1 meter to kilometers\n",
    "    return None\n",
    "\n",
    "# Apply the conversion function to the DataFrame\n",
    "distances_df['Distance to Guelph (km)'] = distances_df['Distance to Guelph'].apply(convert_to_km)\n",
    "distances_df['Distance to St. Henry (km)'] = distances_df['Distance to St. Henry'].apply(convert_to_km)\n",
    "\n",
    "distances_df = distances_df[['City', 'Distance to Guelph (km)', 'Distance to St. Henry (km)']]\n",
    "\n",
    "# remove the province/state to make it match the other data file\n",
    "distances_df['City'] = distances_df['City'].str.split(',').str[0]\n",
    "\n",
    "print(distances_df)"
   ]
  },
  {
   "cell_type": "markdown",
   "metadata": {},
   "source": [
    "Merge the Monthly Expenses & Night out cost columns to the datafame"
   ]
  },
  {
   "cell_type": "code",
   "execution_count": null,
   "metadata": {},
   "outputs": [],
   "source": [
    "livingcosts_df.rename(columns={'Name of the city': 'City'}, inplace=True)\n",
    "\n",
    "# Perform the merge\n",
    "summary_df = distances_df.merge(\n",
    "    livingcosts_df[['City', 'Gasoline (1 liter) (USD)', 'Monthly Expenses', 'Night out cost']], \n",
    "    on='City', \n",
    "    how='left'\n",
    ")\n",
    "\n",
    "summary_df['Gasoline (1 liter) (USD)']=summary_df['Gasoline (1 liter) (USD)']*3.78541\n",
    "\n",
    "print(summary_df)"
   ]
  },
  {
   "cell_type": "markdown",
   "metadata": {},
   "source": [
    "Generate a bar chart that compares the driving distance between the top 10 cities and the hometowns."
   ]
  },
  {
   "cell_type": "code",
   "execution_count": null,
   "metadata": {},
   "outputs": [],
   "source": [
    "# Melt the DataFrame to long format\n",
    "df_melted = summary_df.melt(id_vars='City', value_vars=['Distance to Guelph (km)', 'Distance to St. Henry (km)'],\n",
    "                    var_name='Destination', value_name='Distance')\n",
    "\n",
    "# Plot using Seaborn\n",
    "plt.figure(figsize=(12, 8))\n",
    "sns.barplot(data=df_melted, x='City', y='Distance', hue='Destination', palette='Set1')\n",
    "plt.xticks(rotation=45, ha='right')\n",
    "plt.title('Distances to Guelph and St. Henry')\n",
    "plt.xlabel('City')\n",
    "plt.ylabel('Distance (km)')\n",
    "plt.legend(title='Destination')\n",
    "plt.tight_layout()\n",
    "plt.show()"
   ]
  },
  {
   "cell_type": "markdown",
   "metadata": {},
   "source": [
    "Generate a bar chart that shows the monthly living expenses for each city"
   ]
  },
  {
   "cell_type": "code",
   "execution_count": null,
   "metadata": {},
   "outputs": [],
   "source": [
    "#sort the dataframe so highest expenses are first\n",
    "df_sorted = livingcosts_df.sort_values(by='Monthly Expenses', ascending=False)\n",
    "\n",
    "# Set the size of the figure\n",
    "plt.figure(figsize=(12, 8))\n",
    "\n",
    "# Create a bar chart with seaborn\n",
    "sns.barplot(x='City', y='Monthly Expenses', data=df_sorted,hue='City', palette='muted')\n",
    "\n",
    "# Add title and labels\n",
    "plt.title('Monthly Expenses for Each City')\n",
    "plt.xlabel('City')\n",
    "plt.ylabel('Monthly Expenses (USD)')\n",
    "\n",
    "# Rotate x-axis labels for better readability\n",
    "plt.xticks(rotation=45, ha='right')\n",
    "\n",
    "# Show the plot\n",
    "plt.tight_layout()  # Adjust layout to make room for rotated labels\n",
    "plt.show()"
   ]
  },
  {
   "cell_type": "markdown",
   "metadata": {},
   "source": [
    "Generate a bar chart that shows the cost of a night out for 2 people for each city"
   ]
  },
  {
   "cell_type": "code",
   "execution_count": null,
   "metadata": {},
   "outputs": [],
   "source": [
    "#sort the dataframe so highest expenses are first\n",
    "df_sorted = livingcosts_df.sort_values(by='Night out cost', ascending=False)\n",
    "\n",
    "# Set the size of the figure\n",
    "plt.figure(figsize=(12, 8))\n",
    "\n",
    "# Create a bar chart with seaborn\n",
    "sns.barplot(x='City', y='Night out cost', data=df_sorted,hue='City', palette='muted')\n",
    "\n",
    "# Add title and labels\n",
    "plt.title('Nightly Going Out Costs for Each City')\n",
    "plt.xlabel('City')\n",
    "plt.ylabel('Night out cost')\n",
    "\n",
    "# Rotate x-axis labels for better readability\n",
    "plt.xticks(rotation=45, ha='right')\n",
    "\n",
    "# Show the plot\n",
    "plt.tight_layout()  # Adjust layout to make room for rotated labels\n",
    "plt.show()"
   ]
  }
 ],
 "metadata": {
  "kernelspec": {
   "display_name": ".venv",
   "language": "python",
   "name": "python3"
  },
  "language_info": {
   "codemirror_mode": {
    "name": "ipython",
    "version": 3
   },
   "file_extension": ".py",
   "mimetype": "text/x-python",
   "name": "python",
   "nbconvert_exporter": "python",
   "pygments_lexer": "ipython3",
   "version": "3.12.2"
  }
 },
 "nbformat": 4,
 "nbformat_minor": 2
}
